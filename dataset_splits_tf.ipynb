{
  "nbformat": 4,
  "nbformat_minor": 0,
  "metadata": {
    "colab": {
      "name": "dataset-splits-tf.ipynb",
      "provenance": [],
      "collapsed_sections": [],
      "include_colab_link": true
    },
    "kernelspec": {
      "name": "python3",
      "display_name": "Python 3"
    },
    "accelerator": "GPU"
  },
  "cells": [
    {
      "cell_type": "markdown",
      "metadata": {
        "id": "view-in-github",
        "colab_type": "text"
      },
      "source": [
        "<a href=\"https://colab.research.google.com/github/Sarvesh-Gurumurthy/ACM-ICPC-Algorithms/blob/master/dataset_splits_tf.ipynb\" target=\"_parent\"><img src=\"https://colab.research.google.com/assets/colab-badge.svg\" alt=\"Open In Colab\"/></a>"
      ]
    },
    {
      "cell_type": "code",
      "metadata": {
        "id": "P5SIqkc509Ej",
        "colab_type": "code",
        "colab": {
          "base_uri": "https://localhost:8080/",
          "height": 168
        },
        "outputId": "99346a04-0045-42d1-d39d-f8c68bde31bf"
      },
      "source": [
        "# Install TensorFlow\n",
        "!pip install -q tensorflow-gpu==2.0.0-rc0\n",
        "\n",
        "try:\n",
        "  %tensorflow_version 2.x  # Colab only.\n",
        "except Exception:\n",
        "  pass\n",
        "import tensorflow as tf\n",
        "import numpy as np\n",
        "import matplotlib.pyplot as plt\n",
        "\n",
        "from glob import glob"
      ],
      "execution_count": 1,
      "outputs": [
        {
          "output_type": "stream",
          "text": [
            "\u001b[K     |████████████████████████████████| 380.5MB 46kB/s \n",
            "\u001b[K     |████████████████████████████████| 51kB 7.9MB/s \n",
            "\u001b[K     |████████████████████████████████| 4.3MB 55.4MB/s \n",
            "\u001b[K     |████████████████████████████████| 501kB 58.5MB/s \n",
            "\u001b[?25h`%tensorflow_version` only switches the major version: 1.x or 2.x.\n",
            "You set: `2.x  # Colab only.`. This will be interpreted as: `2.x`.\n",
            "\n",
            "\n",
            "TensorFlow 2.x selected.\n"
          ],
          "name": "stdout"
        }
      ]
    },
    {
      "cell_type": "code",
      "metadata": {
        "id": "mHavxZ3I1CjJ",
        "colab_type": "code",
        "colab": {}
      },
      "source": [
        "import sys\n",
        "import os\n",
        "import shutil\n"
      ],
      "execution_count": 2,
      "outputs": []
    },
    {
      "cell_type": "code",
      "metadata": {
        "id": "OX4fltYP1EiR",
        "colab_type": "code",
        "colab": {
          "base_uri": "https://localhost:8080/",
          "height": 202
        },
        "outputId": "ec29b323-ea01-4885-9b91-27b43e0ad247"
      },
      "source": [
        "!wget -nc http://3dinterpreter.csail.mit.edu/data/keypoint-5.zip"
      ],
      "execution_count": 3,
      "outputs": [
        {
          "output_type": "stream",
          "text": [
            "--2020-09-02 13:05:49--  http://3dinterpreter.csail.mit.edu/data/keypoint-5.zip\n",
            "Resolving 3dinterpreter.csail.mit.edu (3dinterpreter.csail.mit.edu)... 128.30.100.221\n",
            "Connecting to 3dinterpreter.csail.mit.edu (3dinterpreter.csail.mit.edu)|128.30.100.221|:80... connected.\n",
            "HTTP request sent, awaiting response... 200 OK\n",
            "Length: 217741765 (208M) [application/zip]\n",
            "Saving to: ‘keypoint-5.zip’\n",
            "\n",
            "keypoint-5.zip      100%[===================>] 207.65M  10.4MB/s    in 21s     \n",
            "\n",
            "2020-09-02 13:06:11 (9.90 MB/s) - ‘keypoint-5.zip’ saved [217741765/217741765]\n",
            "\n"
          ],
          "name": "stdout"
        }
      ]
    },
    {
      "cell_type": "code",
      "metadata": {
        "id": "sKYdK-A_1H3z",
        "colab_type": "code",
        "colab": {}
      },
      "source": [
        "!unzip -qq -o keypoint-5.zip"
      ],
      "execution_count": 4,
      "outputs": []
    },
    {
      "cell_type": "code",
      "metadata": {
        "id": "Jo1DucR91Nxe",
        "colab_type": "code",
        "colab": {
          "base_uri": "https://localhost:8080/",
          "height": 34
        },
        "outputId": "a5f29732-fad3-4bf4-c4bf-fd737ef21f79"
      },
      "source": [
        "!ls"
      ],
      "execution_count": 5,
      "outputs": [
        {
          "output_type": "stream",
          "text": [
            "bed  chair  keypoint-5.zip  readme  sample_data  sofa  swivelchair  table\n"
          ],
          "name": "stdout"
        }
      ]
    },
    {
      "cell_type": "code",
      "metadata": {
        "id": "wvFRRV6J1PpR",
        "colab_type": "code",
        "colab": {}
      },
      "source": [
        "#making directories\n",
        "!mkdir data\n",
        "!mkdir data/train\n",
        "!mkdir data/test\n",
        "!mkdir data/train/bed\n",
        "!mkdir data/train/chair\n",
        "!mkdir data/train/sofa\n",
        "!mkdir data/train/table\n",
        "!mkdir data/train/swivelchair\n",
        "!mkdir data/test/bed\n",
        "!mkdir data/test/chair\n",
        "!mkdir data/test/sofa\n",
        "!mkdir data/test/table\n",
        "!mkdir data/test/swivelchair"
      ],
      "execution_count": 6,
      "outputs": []
    },
    {
      "cell_type": "code",
      "metadata": {
        "id": "3z2CZRE51UrA",
        "colab_type": "code",
        "colab": {}
      },
      "source": [
        "from tensorflow.keras.preprocessing import image"
      ],
      "execution_count": 7,
      "outputs": []
    },
    {
      "cell_type": "code",
      "metadata": {
        "id": "lSWuq7AA1qYc",
        "colab_type": "code",
        "colab": {}
      },
      "source": [
        "labels=['bed', 'chair', 'sofa', 'table', 'swivelchair']"
      ],
      "execution_count": 8,
      "outputs": []
    },
    {
      "cell_type": "code",
      "metadata": {
        "id": "i2SeG57U1sEO",
        "colab_type": "code",
        "colab": {}
      },
      "source": [
        "from sklearn.model_selection import train_test_split"
      ],
      "execution_count": 9,
      "outputs": []
    },
    {
      "cell_type": "code",
      "metadata": {
        "id": "FlYA454U16_u",
        "colab_type": "code",
        "colab": {}
      },
      "source": [
        "#c = os.listdir('bed'+'/images')"
      ],
      "execution_count": 10,
      "outputs": []
    },
    {
      "cell_type": "code",
      "metadata": {
        "id": "ZoUSDQdI2LO9",
        "colab_type": "code",
        "colab": {}
      },
      "source": [
        "#x,x1 = train_test_split(c,test_size=0.25, random_state=42)"
      ],
      "execution_count": 11,
      "outputs": []
    },
    {
      "cell_type": "code",
      "metadata": {
        "id": "sXPsqTbn3fyu",
        "colab_type": "code",
        "colab": {}
      },
      "source": [
        "#len(x)"
      ],
      "execution_count": 12,
      "outputs": []
    },
    {
      "cell_type": "code",
      "metadata": {
        "id": "H8LROpWT42bg",
        "colab_type": "code",
        "colab": {}
      },
      "source": [
        "#len(x1)"
      ],
      "execution_count": 13,
      "outputs": []
    },
    {
      "cell_type": "code",
      "metadata": {
        "id": "k-1vJa6x471B",
        "colab_type": "code",
        "colab": {}
      },
      "source": [
        "#for i in x:\n",
        "  #shutil.move('bed/images/'+i,'data/train/bed')"
      ],
      "execution_count": 14,
      "outputs": []
    },
    {
      "cell_type": "code",
      "metadata": {
        "id": "oqz5QvjH572n",
        "colab_type": "code",
        "colab": {}
      },
      "source": [
        "#for i in x1:\n",
        "  #shutil.move('bed/images/'+i,'data/test/bed')"
      ],
      "execution_count": 15,
      "outputs": []
    },
    {
      "cell_type": "code",
      "metadata": {
        "id": "SXaSIuVI6FfP",
        "colab_type": "code",
        "colab": {
          "base_uri": "https://localhost:8080/",
          "height": 101
        },
        "outputId": "1746e59d-3fc7-41c8-9b93-d65d97168d98"
      },
      "source": [
        "for i in labels:\n",
        "  c = os.listdir(i+'/images')\n",
        "  x,x1 = train_test_split(c,test_size=0.25, random_state=42)\n",
        "  print(len(x),len(x1))\n",
        "  for j in x:\n",
        "    shutil.move(i+'/images/'+j,'data/train/'+i)\n",
        "  for j in x1:\n",
        "    shutil.move(i+'/images/'+j,'data/test/'+i)\n",
        "  \n"
      ],
      "execution_count": 16,
      "outputs": [
        {
          "output_type": "stream",
          "text": [
            "1110 370\n",
            "1627 543\n",
            "1500 500\n",
            "1296 433\n",
            "952 318\n"
          ],
          "name": "stdout"
        }
      ]
    },
    {
      "cell_type": "code",
      "metadata": {
        "id": "IEPwclBc2a-3",
        "colab_type": "code",
        "colab": {
          "base_uri": "https://localhost:8080/",
          "height": 34
        },
        "outputId": "f82c61b9-f294-4f52-99ec-0cbc7e280f70"
      },
      "source": [
        "#for renaming images from the test set\n",
        "\n",
        "!mkdir data/Test1\n",
        "\n",
        "import glob\n",
        "import pandas as pd\n",
        "import cv2 as cv\n",
        "import re\n",
        "from tqdm import trange\n",
        "\n",
        "cnt = 0\n",
        "img_list = []\n",
        "target = []\n",
        "\n",
        "paths = glob.glob('data/test/*')\n",
        "for i in trange(len(paths),desc=\"Creating test set\"):\n",
        "  imgs = glob.glob(paths[i]+'/*')\n",
        "  folder = re.sub('data/test/','',paths[i])\n",
        "  for img in imgs:\n",
        "    pic = cv.imread(img)\n",
        "    cv.imwrite('data/Test1/img'+str(cnt) + '.jpg',pic)\n",
        "    img_list.append('img'+str(cnt))\n",
        "    target.append(folder)\n",
        "    cnt = cnt + 1\n",
        "\n",
        "test_set = {'image':img_list,'target':target}\n",
        "\n",
        "df = pd.DataFrame(test_set)\n",
        "df.to_csv('test_set.csv')"
      ],
      "execution_count": 17,
      "outputs": [
        {
          "output_type": "stream",
          "text": [
            "Creating test set: 100%|██████████| 5/5 [00:08<00:00,  1.74s/it]\n"
          ],
          "name": "stderr"
        }
      ]
    },
    {
      "cell_type": "code",
      "metadata": {
        "id": "UGqlitxqXeGd",
        "colab_type": "code",
        "colab": {
          "base_uri": "https://localhost:8080/",
          "height": 34
        },
        "outputId": "cb3b47ae-1825-46f7-fd24-70824b8976bd"
      },
      "source": [
        "#for renaming images \n",
        "import os\n",
        "paths = glob.glob('data/train/*')\n",
        "\n",
        "for i in trange(len(paths),desc='Renaming train set images'):\n",
        "  imgs = glob.glob(paths[i]+'/*')\n",
        "  cnt = 0\n",
        "  for img in imgs:\n",
        "    os.rename(img,paths[i]+'/img'+str(cnt)+'.jpg')\n",
        "    cnt = cnt + 1\n",
        "  "
      ],
      "execution_count": 18,
      "outputs": [
        {
          "output_type": "stream",
          "text": [
            "Renaming train set images: 100%|██████████| 5/5 [00:00<00:00, 39.88it/s]\n"
          ],
          "name": "stderr"
        }
      ]
    },
    {
      "cell_type": "code",
      "metadata": {
        "id": "kZ9YA2qUnhc0",
        "colab_type": "code",
        "colab": {
          "base_uri": "https://localhost:8080/",
          "height": 34
        },
        "outputId": "4fc6f371-2b77-451b-9a20-d0a4299a0d40"
      },
      "source": [
        "len(glob.glob('data/train'+'/*/*'))"
      ],
      "execution_count": 19,
      "outputs": [
        {
          "output_type": "execute_result",
          "data": {
            "text/plain": [
              "6485"
            ]
          },
          "metadata": {
            "tags": []
          },
          "execution_count": 19
        }
      ]
    },
    {
      "cell_type": "code",
      "metadata": {
        "id": "--ZHpGc0no0Q",
        "colab_type": "code",
        "colab": {
          "base_uri": "https://localhost:8080/",
          "height": 34
        },
        "outputId": "147fe922-9384-48e6-ce98-6af836507947"
      },
      "source": [
        "len(glob.glob('data/train'+'/*/*.jpg'))"
      ],
      "execution_count": 20,
      "outputs": [
        {
          "output_type": "execute_result",
          "data": {
            "text/plain": [
              "6485"
            ]
          },
          "metadata": {
            "tags": []
          },
          "execution_count": 20
        }
      ]
    },
    {
      "cell_type": "code",
      "metadata": {
        "id": "i0UAlASS2TLN",
        "colab_type": "code",
        "colab": {}
      },
      "source": [
        ""
      ],
      "execution_count": null,
      "outputs": []
    }
  ]
}